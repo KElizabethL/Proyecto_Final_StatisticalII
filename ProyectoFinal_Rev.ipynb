{
 "cells": [
  {
   "cell_type": "markdown",
   "id": "ae59fb9e",
   "metadata": {},
   "source": [
    "# Proyecto Final \n",
    "Presentado por:\n",
    "\n",
    "Karin Elizabeth Lopez Padilla\n",
    "\n",
    "Jose Andres Marquez Morataya"
   ]
  },
  {
   "cell_type": "markdown",
   "id": "50bce959",
   "metadata": {},
   "source": [
    "Se ha desarrollado un modelo de prediccion de el movimiento porcentual del precio de BTC en periodo de tiempo de 1 minuto, dicho modelo es para poder conocer si se puede o no invertir en btc con trading algoritmico o de alta velocidad."
   ]
  },
  {
   "cell_type": "markdown",
   "id": "c4045c14",
   "metadata": {},
   "source": [
    "Importamos las librerias necesarias para el proyecto"
   ]
  },
  {
   "cell_type": "code",
   "execution_count": 1,
   "id": "5dea8751",
   "metadata": {},
   "outputs": [],
   "source": [
    "import numpy as np\n",
    "import pandas as pd \n",
    "import matplotlib.pyplot as plt\n",
    "from sklearn.preprocessing import MinMaxScaler\n",
    "from keras.models import Sequential\n",
    "from keras.layers import Dense\n",
    "from keras.layers import LSTM\n",
    "from keras.layers import Dropout\n",
    "import seaborn as sns"
   ]
  },
  {
   "cell_type": "code",
   "execution_count": 2,
   "id": "4fabd186",
   "metadata": {},
   "outputs": [],
   "source": [
    "pd.options.display.float_format = '{:.8f}'.format"
   ]
  },
  {
   "cell_type": "code",
   "execution_count": 3,
   "id": "bad7333b",
   "metadata": {},
   "outputs": [],
   "source": [
    "data = pd.read_csv(\"bitstampUSD_1-min_data_2012-01-01_to_2021-03-31.csv\")"
   ]
  },
  {
   "cell_type": "code",
   "execution_count": 4,
   "id": "6335ba33",
   "metadata": {},
   "outputs": [
    {
     "data": {
      "text/html": [
       "<div>\n",
       "<style scoped>\n",
       "    .dataframe tbody tr th:only-of-type {\n",
       "        vertical-align: middle;\n",
       "    }\n",
       "\n",
       "    .dataframe tbody tr th {\n",
       "        vertical-align: top;\n",
       "    }\n",
       "\n",
       "    .dataframe thead th {\n",
       "        text-align: right;\n",
       "    }\n",
       "</style>\n",
       "<table border=\"1\" class=\"dataframe\">\n",
       "  <thead>\n",
       "    <tr style=\"text-align: right;\">\n",
       "      <th></th>\n",
       "      <th>Timestamp</th>\n",
       "      <th>Open</th>\n",
       "      <th>High</th>\n",
       "      <th>Low</th>\n",
       "      <th>Close</th>\n",
       "      <th>Volume_(BTC)</th>\n",
       "      <th>Volume_(Currency)</th>\n",
       "      <th>Weighted_Price</th>\n",
       "    </tr>\n",
       "  </thead>\n",
       "  <tbody>\n",
       "    <tr>\n",
       "      <th>0</th>\n",
       "      <td>1325317920</td>\n",
       "      <td>4.39000000</td>\n",
       "      <td>4.39000000</td>\n",
       "      <td>4.39000000</td>\n",
       "      <td>4.39000000</td>\n",
       "      <td>0.45558087</td>\n",
       "      <td>2.00000002</td>\n",
       "      <td>4.39000000</td>\n",
       "    </tr>\n",
       "    <tr>\n",
       "      <th>1</th>\n",
       "      <td>1325317980</td>\n",
       "      <td>NaN</td>\n",
       "      <td>NaN</td>\n",
       "      <td>NaN</td>\n",
       "      <td>NaN</td>\n",
       "      <td>NaN</td>\n",
       "      <td>NaN</td>\n",
       "      <td>NaN</td>\n",
       "    </tr>\n",
       "    <tr>\n",
       "      <th>2</th>\n",
       "      <td>1325318040</td>\n",
       "      <td>NaN</td>\n",
       "      <td>NaN</td>\n",
       "      <td>NaN</td>\n",
       "      <td>NaN</td>\n",
       "      <td>NaN</td>\n",
       "      <td>NaN</td>\n",
       "      <td>NaN</td>\n",
       "    </tr>\n",
       "    <tr>\n",
       "      <th>3</th>\n",
       "      <td>1325318100</td>\n",
       "      <td>NaN</td>\n",
       "      <td>NaN</td>\n",
       "      <td>NaN</td>\n",
       "      <td>NaN</td>\n",
       "      <td>NaN</td>\n",
       "      <td>NaN</td>\n",
       "      <td>NaN</td>\n",
       "    </tr>\n",
       "    <tr>\n",
       "      <th>4</th>\n",
       "      <td>1325318160</td>\n",
       "      <td>NaN</td>\n",
       "      <td>NaN</td>\n",
       "      <td>NaN</td>\n",
       "      <td>NaN</td>\n",
       "      <td>NaN</td>\n",
       "      <td>NaN</td>\n",
       "      <td>NaN</td>\n",
       "    </tr>\n",
       "  </tbody>\n",
       "</table>\n",
       "</div>"
      ],
      "text/plain": [
       "    Timestamp       Open       High        Low      Close  Volume_(BTC)  \\\n",
       "0  1325317920 4.39000000 4.39000000 4.39000000 4.39000000    0.45558087   \n",
       "1  1325317980        NaN        NaN        NaN        NaN           NaN   \n",
       "2  1325318040        NaN        NaN        NaN        NaN           NaN   \n",
       "3  1325318100        NaN        NaN        NaN        NaN           NaN   \n",
       "4  1325318160        NaN        NaN        NaN        NaN           NaN   \n",
       "\n",
       "   Volume_(Currency)  Weighted_Price  \n",
       "0         2.00000002      4.39000000  \n",
       "1                NaN             NaN  \n",
       "2                NaN             NaN  \n",
       "3                NaN             NaN  \n",
       "4                NaN             NaN  "
      ]
     },
     "execution_count": 4,
     "metadata": {},
     "output_type": "execute_result"
    }
   ],
   "source": [
    "data.head()"
   ]
  },
  {
   "cell_type": "code",
   "execution_count": 5,
   "id": "ef6a7375",
   "metadata": {},
   "outputs": [],
   "source": [
    "def getNanColNames(df):\n",
    "    colnames = df.columns\n",
    "    cols_con_na = []\n",
    "    for col in colnames:\n",
    "        if(df[col].isnull().sum() > 0):\n",
    "            cols_con_na.append(col)\n",
    "    return cols_con_na"
   ]
  },
  {
   "cell_type": "code",
   "execution_count": 6,
   "id": "5e3af254",
   "metadata": {},
   "outputs": [
    {
     "data": {
      "text/plain": [
       "['Open',\n",
       " 'High',\n",
       " 'Low',\n",
       " 'Close',\n",
       " 'Volume_(BTC)',\n",
       " 'Volume_(Currency)',\n",
       " 'Weighted_Price']"
      ]
     },
     "execution_count": 6,
     "metadata": {},
     "output_type": "execute_result"
    }
   ],
   "source": [
    "cols_con_nan = getNanColNames(data)\n",
    "cols_con_nan"
   ]
  },
  {
   "cell_type": "code",
   "execution_count": 7,
   "id": "1ec1b2e6",
   "metadata": {},
   "outputs": [
    {
     "data": {
      "text/plain": [
       "Open                0.25602460\n",
       "High                0.25602460\n",
       "Low                 0.25602460\n",
       "Close               0.25602460\n",
       "Volume_(BTC)        0.25602460\n",
       "Volume_(Currency)   0.25602460\n",
       "Weighted_Price      0.25602460\n",
       "dtype: float64"
      ]
     },
     "execution_count": 7,
     "metadata": {},
     "output_type": "execute_result"
    }
   ],
   "source": [
    "data[cols_con_nan].isnull().mean()"
   ]
  },
  {
   "cell_type": "code",
   "execution_count": 8,
   "id": "bb8c3fdf",
   "metadata": {},
   "outputs": [
    {
     "data": {
      "text/plain": [
       "Open                 float64\n",
       "High                 float64\n",
       "Low                  float64\n",
       "Close                float64\n",
       "Volume_(BTC)         float64\n",
       "Volume_(Currency)    float64\n",
       "Weighted_Price       float64\n",
       "dtype: object"
      ]
     },
     "execution_count": 8,
     "metadata": {},
     "output_type": "execute_result"
    }
   ],
   "source": [
    "data[cols_con_nan].dtypes"
   ]
  },
  {
   "cell_type": "code",
   "execution_count": 9,
   "id": "3b3efc8a",
   "metadata": {},
   "outputs": [],
   "source": [
    "data[\"Movimiento\"] = data[\"Close\"] - data[\"Open\"]\n",
    "data[\"Movimientoporcentaje\"] = data[\"Movimiento\"]/data[\"Open\"]"
   ]
  },
  {
   "cell_type": "code",
   "execution_count": 10,
   "id": "15b48710",
   "metadata": {},
   "outputs": [],
   "source": [
    "data = data.dropna()"
   ]
  },
  {
   "cell_type": "code",
   "execution_count": 11,
   "id": "898bfa6d",
   "metadata": {},
   "outputs": [
    {
     "data": {
      "text/html": [
       "<div>\n",
       "<style scoped>\n",
       "    .dataframe tbody tr th:only-of-type {\n",
       "        vertical-align: middle;\n",
       "    }\n",
       "\n",
       "    .dataframe tbody tr th {\n",
       "        vertical-align: top;\n",
       "    }\n",
       "\n",
       "    .dataframe thead th {\n",
       "        text-align: right;\n",
       "    }\n",
       "</style>\n",
       "<table border=\"1\" class=\"dataframe\">\n",
       "  <thead>\n",
       "    <tr style=\"text-align: right;\">\n",
       "      <th></th>\n",
       "      <th>Timestamp</th>\n",
       "      <th>Open</th>\n",
       "      <th>High</th>\n",
       "      <th>Low</th>\n",
       "      <th>Close</th>\n",
       "      <th>Volume_(BTC)</th>\n",
       "      <th>Volume_(Currency)</th>\n",
       "      <th>Weighted_Price</th>\n",
       "      <th>Movimiento</th>\n",
       "      <th>Movimientoporcentaje</th>\n",
       "    </tr>\n",
       "  </thead>\n",
       "  <tbody>\n",
       "    <tr>\n",
       "      <th>0</th>\n",
       "      <td>1325317920</td>\n",
       "      <td>4.39000000</td>\n",
       "      <td>4.39000000</td>\n",
       "      <td>4.39000000</td>\n",
       "      <td>4.39000000</td>\n",
       "      <td>0.45558087</td>\n",
       "      <td>2.00000002</td>\n",
       "      <td>4.39000000</td>\n",
       "      <td>0.00000000</td>\n",
       "      <td>0.00000000</td>\n",
       "    </tr>\n",
       "    <tr>\n",
       "      <th>478</th>\n",
       "      <td>1325346600</td>\n",
       "      <td>4.39000000</td>\n",
       "      <td>4.39000000</td>\n",
       "      <td>4.39000000</td>\n",
       "      <td>4.39000000</td>\n",
       "      <td>48.00000000</td>\n",
       "      <td>210.72000000</td>\n",
       "      <td>4.39000000</td>\n",
       "      <td>0.00000000</td>\n",
       "      <td>0.00000000</td>\n",
       "    </tr>\n",
       "    <tr>\n",
       "      <th>547</th>\n",
       "      <td>1325350740</td>\n",
       "      <td>4.50000000</td>\n",
       "      <td>4.57000000</td>\n",
       "      <td>4.50000000</td>\n",
       "      <td>4.57000000</td>\n",
       "      <td>37.86229723</td>\n",
       "      <td>171.38033753</td>\n",
       "      <td>4.52641150</td>\n",
       "      <td>0.07000000</td>\n",
       "      <td>0.01555556</td>\n",
       "    </tr>\n",
       "    <tr>\n",
       "      <th>548</th>\n",
       "      <td>1325350800</td>\n",
       "      <td>4.58000000</td>\n",
       "      <td>4.58000000</td>\n",
       "      <td>4.58000000</td>\n",
       "      <td>4.58000000</td>\n",
       "      <td>9.00000000</td>\n",
       "      <td>41.22000000</td>\n",
       "      <td>4.58000000</td>\n",
       "      <td>0.00000000</td>\n",
       "      <td>0.00000000</td>\n",
       "    </tr>\n",
       "    <tr>\n",
       "      <th>1224</th>\n",
       "      <td>1325391360</td>\n",
       "      <td>4.58000000</td>\n",
       "      <td>4.58000000</td>\n",
       "      <td>4.58000000</td>\n",
       "      <td>4.58000000</td>\n",
       "      <td>1.50200000</td>\n",
       "      <td>6.87916000</td>\n",
       "      <td>4.58000000</td>\n",
       "      <td>0.00000000</td>\n",
       "      <td>0.00000000</td>\n",
       "    </tr>\n",
       "  </tbody>\n",
       "</table>\n",
       "</div>"
      ],
      "text/plain": [
       "       Timestamp       Open       High        Low      Close  Volume_(BTC)  \\\n",
       "0     1325317920 4.39000000 4.39000000 4.39000000 4.39000000    0.45558087   \n",
       "478   1325346600 4.39000000 4.39000000 4.39000000 4.39000000   48.00000000   \n",
       "547   1325350740 4.50000000 4.57000000 4.50000000 4.57000000   37.86229723   \n",
       "548   1325350800 4.58000000 4.58000000 4.58000000 4.58000000    9.00000000   \n",
       "1224  1325391360 4.58000000 4.58000000 4.58000000 4.58000000    1.50200000   \n",
       "\n",
       "      Volume_(Currency)  Weighted_Price  Movimiento  Movimientoporcentaje  \n",
       "0            2.00000002      4.39000000  0.00000000            0.00000000  \n",
       "478        210.72000000      4.39000000  0.00000000            0.00000000  \n",
       "547        171.38033753      4.52641150  0.07000000            0.01555556  \n",
       "548         41.22000000      4.58000000  0.00000000            0.00000000  \n",
       "1224         6.87916000      4.58000000  0.00000000            0.00000000  "
      ]
     },
     "execution_count": 11,
     "metadata": {},
     "output_type": "execute_result"
    }
   ],
   "source": [
    "data.head()"
   ]
  },
  {
   "cell_type": "code",
   "execution_count": 12,
   "id": "8d3d1120",
   "metadata": {},
   "outputs": [],
   "source": [
    "data.rename(columns = {'Volume_(BTC)':'Volume_BTC', 'Volume_(Currency)':'Volume_Currency'}, inplace = True)"
   ]
  },
  {
   "cell_type": "code",
   "execution_count": 13,
   "id": "649c066c",
   "metadata": {},
   "outputs": [
    {
     "data": {
      "text/plain": [
       "count   3613769.00000000\n",
       "mean         -0.00000793\n",
       "std           0.00204561\n",
       "min          -0.99744376\n",
       "25%          -0.00028961\n",
       "50%           0.00000000\n",
       "75%           0.00031485\n",
       "max           0.41489804\n",
       "Name: Movimientoporcentaje, dtype: float64"
      ]
     },
     "execution_count": 13,
     "metadata": {},
     "output_type": "execute_result"
    }
   ],
   "source": [
    "data.Movimientoporcentaje.describe()"
   ]
  },
  {
   "cell_type": "code",
   "execution_count": 14,
   "id": "8f05599c",
   "metadata": {},
   "outputs": [
    {
     "data": {
      "text/plain": [
       "count   3613769.00000000\n",
       "mean       6013.35708161\n",
       "std        9003.52100638\n",
       "min           3.80000000\n",
       "25%         444.00000000\n",
       "50%        3598.19000000\n",
       "75%        8632.98000000\n",
       "max       61781.83000000\n",
       "Name: High, dtype: float64"
      ]
     },
     "execution_count": 14,
     "metadata": {},
     "output_type": "execute_result"
    }
   ],
   "source": [
    "data.High.describe()"
   ]
  },
  {
   "cell_type": "code",
   "execution_count": 15,
   "id": "f23fbd6f",
   "metadata": {},
   "outputs": [
    {
     "data": {
      "text/plain": [
       "count    3613769.00000000\n",
       "mean       41762.84239708\n",
       "std       151824.78390068\n",
       "min            0.00000000\n",
       "25%          452.14219543\n",
       "50%         3810.12414310\n",
       "75%        25698.21117600\n",
       "max     13900672.40700000\n",
       "Name: Volume_Currency, dtype: float64"
      ]
     },
     "execution_count": 15,
     "metadata": {},
     "output_type": "execute_result"
    }
   ],
   "source": [
    "data.Volume_Currency.describe()"
   ]
  },
  {
   "cell_type": "code",
   "execution_count": 16,
   "id": "498d5b65",
   "metadata": {},
   "outputs": [
    {
     "data": {
      "text/plain": [
       "count   3613769.00000000\n",
       "mean          9.32324922\n",
       "std          30.54989124\n",
       "min           0.00000000\n",
       "25%           0.40977594\n",
       "50%           1.97981073\n",
       "75%           7.27821636\n",
       "max        5853.85216590\n",
       "Name: Volume_BTC, dtype: float64"
      ]
     },
     "execution_count": 16,
     "metadata": {},
     "output_type": "execute_result"
    }
   ],
   "source": [
    "data.Volume_BTC.describe()"
   ]
  },
  {
   "cell_type": "code",
   "execution_count": 17,
   "id": "70710be6",
   "metadata": {},
   "outputs": [
    {
     "data": {
      "image/png": "[encoded data removed]",
      "text/plain": [
       "<Figure size 432x288 with 1 Axes>"
      ]
     },
     "metadata": {
      "needs_background": "light"
     },
     "output_type": "display_data"
    }
   ],
   "source": [
    "data.plot( 'Timestamp' , 'Volume_BTC',  ) \n",
    "plt.show()"
   ]
  },
  {
   "cell_type": "code",
   "execution_count": 18,
   "id": "6fd72ee1",
   "metadata": {},
   "outputs": [
    {
     "data": {
      "image/png": "[encoded data removed]",
      "text/plain": [
       "<Figure size 432x288 with 1 Axes>"
      ]
     },
     "metadata": {
      "needs_background": "light"
     },
     "output_type": "display_data"
    }
   ],
   "source": [
    "data.plot( 'Timestamp' , 'Volume_Currency',  ) \n",
    "plt.show()"
   ]
  },
  {
   "cell_type": "code",
   "execution_count": 19,
   "id": "efe71dba",
   "metadata": {},
   "outputs": [
    {
     "data": {
      "image/png": "[encoded data removed]",
      "text/plain": [
       "<Figure size 432x288 with 1 Axes>"
      ]
     },
     "metadata": {
      "needs_background": "light"
     },
     "output_type": "display_data"
    }
   ],
   "source": [
    "data.plot( 'Timestamp' , 'Volume_BTC',  ) \n",
    "plt.show()"
   ]
  },
  {
   "cell_type": "markdown",
   "id": "b914a476",
   "metadata": {},
   "source": [
    "# Ingenieria de caracteristicas"
   ]
  },
  {
   "cell_type": "markdown",
   "id": "96acb054",
   "metadata": {},
   "source": [
    "Tratamiento de outliers"
   ]
  },
  {
   "cell_type": "code",
   "execution_count": 20,
   "id": "bd62b143",
   "metadata": {},
   "outputs": [
    {
     "data": {
      "text/plain": [
       "<AxesSubplot:ylabel='Density'>"
      ]
     },
     "execution_count": 20,
     "metadata": {},
     "output_type": "execute_result"
    },
    {
     "data": {
      "image/png": "[encoded data removed]",
      "text/plain": [
       "<Figure size 432x288 with 1 Axes>"
      ]
     },
     "metadata": {
      "needs_background": "light"
     },
     "output_type": "display_data"
    }
   ],
   "source": [
    "pd.DataFrame(data['Movimientoporcentaje']).plot(kind='density')"
   ]
  },
  {
   "cell_type": "code",
   "execution_count": 21,
   "id": "b22bd7d4",
   "metadata": {},
   "outputs": [],
   "source": [
    "upper_limit = data['Movimientoporcentaje'].quantile(0.99)\n",
    "lower_limit = data['Movimientoporcentaje'].quantile(0.01)"
   ]
  },
  {
   "cell_type": "code",
   "execution_count": 22,
   "id": "0bf821b7",
   "metadata": {},
   "outputs": [],
   "source": [
    "new_data = data[(data['Movimientoporcentaje'] <= upper_limit) & (data['Movimientoporcentaje'] >= lower_limit)]"
   ]
  },
  {
   "cell_type": "code",
   "execution_count": 23,
   "id": "ebea8bcf",
   "metadata": {},
   "outputs": [
    {
     "data": {
      "text/plain": [
       "<AxesSubplot:ylabel='Density'>"
      ]
     },
     "execution_count": 23,
     "metadata": {},
     "output_type": "execute_result"
    },
    {
     "data": {
      "image/png": "[encoded data removed]",
      "text/plain": [
       "<Figure size 432x288 with 1 Axes>"
      ]
     },
     "metadata": {
      "needs_background": "light"
     },
     "output_type": "display_data"
    }
   ],
   "source": [
    "pd.DataFrame(new_data['Movimientoporcentaje']).plot(kind='density')"
   ]
  },
  {
   "cell_type": "code",
   "execution_count": 24,
   "id": "55d2544a",
   "metadata": {},
   "outputs": [
    {
     "data": {
      "text/html": [
       "<div>\n",
       "<style scoped>\n",
       "    .dataframe tbody tr th:only-of-type {\n",
       "        vertical-align: middle;\n",
       "    }\n",
       "\n",
       "    .dataframe tbody tr th {\n",
       "        vertical-align: top;\n",
       "    }\n",
       "\n",
       "    .dataframe thead th {\n",
       "        text-align: right;\n",
       "    }\n",
       "</style>\n",
       "<table border=\"1\" class=\"dataframe\">\n",
       "  <thead>\n",
       "    <tr style=\"text-align: right;\">\n",
       "      <th></th>\n",
       "      <th>Timestamp</th>\n",
       "      <th>Movimientoporcentaje</th>\n",
       "    </tr>\n",
       "  </thead>\n",
       "  <tbody>\n",
       "    <tr>\n",
       "      <th>0</th>\n",
       "      <td>1325317920</td>\n",
       "      <td>0.00000000</td>\n",
       "    </tr>\n",
       "    <tr>\n",
       "      <th>478</th>\n",
       "      <td>1325346600</td>\n",
       "      <td>0.00000000</td>\n",
       "    </tr>\n",
       "    <tr>\n",
       "      <th>548</th>\n",
       "      <td>1325350800</td>\n",
       "      <td>0.00000000</td>\n",
       "    </tr>\n",
       "    <tr>\n",
       "      <th>1224</th>\n",
       "      <td>1325391360</td>\n",
       "      <td>0.00000000</td>\n",
       "    </tr>\n",
       "    <tr>\n",
       "      <th>1896</th>\n",
       "      <td>1325431680</td>\n",
       "      <td>0.00000000</td>\n",
       "    </tr>\n",
       "    <tr>\n",
       "      <th>...</th>\n",
       "      <td>...</td>\n",
       "      <td>...</td>\n",
       "    </tr>\n",
       "    <tr>\n",
       "      <th>4857372</th>\n",
       "      <td>1617148560</td>\n",
       "      <td>-0.00048217</td>\n",
       "    </tr>\n",
       "    <tr>\n",
       "      <th>4857373</th>\n",
       "      <td>1617148620</td>\n",
       "      <td>0.00003135</td>\n",
       "    </tr>\n",
       "    <tr>\n",
       "      <th>4857374</th>\n",
       "      <td>1617148680</td>\n",
       "      <td>0.00051812</td>\n",
       "    </tr>\n",
       "    <tr>\n",
       "      <th>4857375</th>\n",
       "      <td>1617148740</td>\n",
       "      <td>0.00031340</td>\n",
       "    </tr>\n",
       "    <tr>\n",
       "      <th>4857376</th>\n",
       "      <td>1617148800</td>\n",
       "      <td>0.00017748</td>\n",
       "    </tr>\n",
       "  </tbody>\n",
       "</table>\n",
       "<p>3541493 rows × 2 columns</p>\n",
       "</div>"
      ],
      "text/plain": [
       "          Timestamp  Movimientoporcentaje\n",
       "0        1325317920            0.00000000\n",
       "478      1325346600            0.00000000\n",
       "548      1325350800            0.00000000\n",
       "1224     1325391360            0.00000000\n",
       "1896     1325431680            0.00000000\n",
       "...             ...                   ...\n",
       "4857372  1617148560           -0.00048217\n",
       "4857373  1617148620            0.00003135\n",
       "4857374  1617148680            0.00051812\n",
       "4857375  1617148740            0.00031340\n",
       "4857376  1617148800            0.00017748\n",
       "\n",
       "[3541493 rows x 2 columns]"
      ]
     },
     "execution_count": 24,
     "metadata": {},
     "output_type": "execute_result"
    }
   ],
   "source": [
    "new_data = new_data[['Timestamp', 'Movimientoporcentaje']]\n",
    "new_data"
   ]
  },
  {
   "cell_type": "code",
   "execution_count": 25,
   "id": "f284d89c",
   "metadata": {},
   "outputs": [
    {
     "data": {
      "text/html": [
       "<div>\n",
       "<style scoped>\n",
       "    .dataframe tbody tr th:only-of-type {\n",
       "        vertical-align: middle;\n",
       "    }\n",
       "\n",
       "    .dataframe tbody tr th {\n",
       "        vertical-align: top;\n",
       "    }\n",
       "\n",
       "    .dataframe thead th {\n",
       "        text-align: right;\n",
       "    }\n",
       "</style>\n",
       "<table border=\"1\" class=\"dataframe\">\n",
       "  <thead>\n",
       "    <tr style=\"text-align: right;\">\n",
       "      <th></th>\n",
       "      <th>Timestamp</th>\n",
       "      <th>Movimientoporcentaje</th>\n",
       "    </tr>\n",
       "  </thead>\n",
       "  <tbody>\n",
       "    <tr>\n",
       "      <th>count</th>\n",
       "      <td>3541493.00000000</td>\n",
       "      <td>3541493.00000000</td>\n",
       "    </tr>\n",
       "    <tr>\n",
       "      <th>mean</th>\n",
       "      <td>1499257242.41633129</td>\n",
       "      <td>-0.00000444</td>\n",
       "    </tr>\n",
       "    <tr>\n",
       "      <th>std</th>\n",
       "      <td>73886592.51283853</td>\n",
       "      <td>0.00115629</td>\n",
       "    </tr>\n",
       "    <tr>\n",
       "      <th>min</th>\n",
       "      <td>1325317920.00000000</td>\n",
       "      <td>-0.00525495</td>\n",
       "    </tr>\n",
       "    <tr>\n",
       "      <th>25%</th>\n",
       "      <td>1436142000.00000000</td>\n",
       "      <td>-0.00026944</td>\n",
       "    </tr>\n",
       "    <tr>\n",
       "      <th>50%</th>\n",
       "      <td>1507169520.00000000</td>\n",
       "      <td>0.00000000</td>\n",
       "    </tr>\n",
       "    <tr>\n",
       "      <th>75%</th>\n",
       "      <td>1562988900.00000000</td>\n",
       "      <td>0.00029672</td>\n",
       "    </tr>\n",
       "    <tr>\n",
       "      <th>max</th>\n",
       "      <td>1617148800.00000000</td>\n",
       "      <td>0.00500881</td>\n",
       "    </tr>\n",
       "  </tbody>\n",
       "</table>\n",
       "</div>"
      ],
      "text/plain": [
       "                Timestamp  Movimientoporcentaje\n",
       "count    3541493.00000000      3541493.00000000\n",
       "mean  1499257242.41633129           -0.00000444\n",
       "std     73886592.51283853            0.00115629\n",
       "min   1325317920.00000000           -0.00525495\n",
       "25%   1436142000.00000000           -0.00026944\n",
       "50%   1507169520.00000000            0.00000000\n",
       "75%   1562988900.00000000            0.00029672\n",
       "max   1617148800.00000000            0.00500881"
      ]
     },
     "execution_count": 25,
     "metadata": {},
     "output_type": "execute_result"
    }
   ],
   "source": [
    "new_data.describe()"
   ]
  },
  {
   "cell_type": "markdown",
   "id": "c39baec2",
   "metadata": {},
   "source": [
    "Separamos los datos en 80/20 para generar la prediccion"
   ]
  },
  {
   "cell_type": "code",
   "execution_count": 26,
   "id": "7ae54318",
   "metadata": {},
   "outputs": [],
   "source": [
    "dataset_final_Train = new_data.head(2833205)\n",
    "dataset_final_Test = new_data.head(708301)"
   ]
  },
  {
   "cell_type": "code",
   "execution_count": 27,
   "id": "7960aa54",
   "metadata": {},
   "outputs": [],
   "source": [
    "dataset_final_Train = dataset_final_Train.iloc[:, 1:2].values\n",
    "dataset_final_Test = dataset_final_Test.iloc[:, 1:2].values"
   ]
  },
  {
   "cell_type": "code",
   "execution_count": 28,
   "id": "b240ad09",
   "metadata": {},
   "outputs": [
    {
     "data": {
      "text/plain": [
       "array([[ 0.        ],\n",
       "       [ 0.        ],\n",
       "       [ 0.        ],\n",
       "       ...,\n",
       "       [-0.0006474 ],\n",
       "       [ 0.0002126 ],\n",
       "       [ 0.00035072]])"
      ]
     },
     "execution_count": 28,
     "metadata": {},
     "output_type": "execute_result"
    }
   ],
   "source": [
    "dataset_final_Train"
   ]
  },
  {
   "cell_type": "code",
   "execution_count": 29,
   "id": "49e9ab02",
   "metadata": {},
   "outputs": [
    {
     "data": {
      "text/plain": [
       "array([[0.        ],\n",
       "       [0.        ],\n",
       "       [0.        ],\n",
       "       ...,\n",
       "       [0.002599  ],\n",
       "       [0.00175755],\n",
       "       [0.00070234]])"
      ]
     },
     "execution_count": 29,
     "metadata": {},
     "output_type": "execute_result"
    }
   ],
   "source": [
    "dataset_final_Test"
   ]
  },
  {
   "cell_type": "code",
   "execution_count": 33,
   "id": "20b8e575",
   "metadata": {},
   "outputs": [],
   "source": [
    "X_train = []\n",
    "Y_train = []\n",
    "cantidad = dataset_final_Train.shape[0]\n",
    "ventana = 2\n",
    "for i in range(ventana, cantidad):\n",
    "  X_train.append(dataset_final_Train[i - ventana: i, 0])\n",
    "  Y_train.append(dataset_final_Train[i, 0])"
   ]
  },
  {
   "cell_type": "code",
   "execution_count": 34,
   "id": "ae1327d2",
   "metadata": {},
   "outputs": [],
   "source": [
    "X_train = np.array(X_train)\n",
    "y_train = np.array(Y_train)"
   ]
  },
  {
   "cell_type": "code",
   "execution_count": 35,
   "id": "6b61fe20",
   "metadata": {},
   "outputs": [],
   "source": [
    "X_train = np.reshape(X_train, (X_train.shape[0], X_train.shape[1], 1))"
   ]
  },
  {
   "cell_type": "code",
   "execution_count": 36,
   "id": "ea24e4fc",
   "metadata": {},
   "outputs": [
    {
     "data": {
      "text/plain": [
       "array([[[ 0.        ],\n",
       "        [ 0.        ]],\n",
       "\n",
       "       [[ 0.        ],\n",
       "        [ 0.        ]],\n",
       "\n",
       "       [[ 0.        ],\n",
       "        [ 0.        ]],\n",
       "\n",
       "       ...,\n",
       "\n",
       "       [[-0.00019586],\n",
       "        [ 0.        ]],\n",
       "\n",
       "       [[ 0.        ],\n",
       "        [-0.0006474 ]],\n",
       "\n",
       "       [[-0.0006474 ],\n",
       "        [ 0.0002126 ]]])"
      ]
     },
     "execution_count": 36,
     "metadata": {},
     "output_type": "execute_result"
    }
   ],
   "source": [
    "X_train"
   ]
  },
  {
   "cell_type": "code",
   "execution_count": 37,
   "id": "db8485f3",
   "metadata": {},
   "outputs": [
    {
     "data": {
      "text/plain": [
       "(2833203, 2, 1)"
      ]
     },
     "execution_count": 37,
     "metadata": {},
     "output_type": "execute_result"
    }
   ],
   "source": [
    "X_train.shape"
   ]
  },
  {
   "cell_type": "code",
   "execution_count": 38,
   "id": "01f6a5a1",
   "metadata": {},
   "outputs": [],
   "source": [
    "forecaster = Sequential()\n",
    "\n",
    "forecaster.add(LSTM(input_shape=(X_train.shape[1], 1), units=50, return_sequences=True))\n",
    "forecaster.add(LSTM(units=50, return_sequences=True))\n",
    "forecaster.add(LSTM(units=25, return_sequences=True))\n",
    "forecaster.add(LSTM(units=75, return_sequences=False))\n",
    "forecaster.add(Dense(units=1, activation='relu'))"
   ]
  },
  {
   "cell_type": "code",
   "execution_count": 39,
   "id": "6dae748c",
   "metadata": {},
   "outputs": [],
   "source": [
    "forecaster.compile(optimizer='adam', loss='mean_squared_error')"
   ]
  },
  {
   "cell_type": "markdown",
   "id": "4c0bf10d",
   "metadata": {},
   "source": []
  },
  {
   "cell_type": "code",
   "execution_count": 42,
   "id": "bf9e1798",
   "metadata": {},
   "outputs": [
    {
     "name": "stdout",
     "output_type": "stream",
     "text": [
      "Epoch 1/25\n",
      "5667/5667 [==============================] - 135s 24ms/step - loss: 1.4379e-06\n",
      "Epoch 2/25\n",
      "5667/5667 [==============================] - 141s 25ms/step - loss: 1.4379e-06\n",
      "Epoch 3/25\n",
      "5667/5667 [==============================] - 150s 26ms/step - loss: 1.4379e-06\n",
      "Epoch 4/25\n",
      "5667/5667 [==============================] - 158s 28ms/step - loss: 1.4379e-06\n",
      "Epoch 5/25\n",
      "5667/5667 [==============================] - 161s 28ms/step - loss: 1.4379e-06\n",
      "Epoch 6/25\n",
      "5667/5667 [==============================] - 161s 28ms/step - loss: 1.4379e-06\n",
      "Epoch 7/25\n",
      "5667/5667 [==============================] - 164s 29ms/step - loss: 1.4379e-06\n",
      "Epoch 8/25\n",
      "5667/5667 [==============================] - 161s 28ms/step - loss: 1.4379e-06\n",
      "Epoch 9/25\n",
      "5667/5667 [==============================] - 164s 29ms/step - loss: 1.4379e-06\n",
      "Epoch 10/25\n",
      "5667/5667 [==============================] - 161s 28ms/step - loss: 1.4379e-06\n",
      "Epoch 11/25\n",
      "5667/5667 [==============================] - 164s 29ms/step - loss: 1.4379e-06\n",
      "Epoch 12/25\n",
      "5667/5667 [==============================] - 474s 84ms/step - loss: 1.4379e-06\n",
      "Epoch 13/25\n",
      "5667/5667 [==============================] - 212s 37ms/step - loss: 1.4379e-06\n",
      "Epoch 14/25\n",
      "5667/5667 [==============================] - 192s 34ms/step - loss: 1.4379e-06\n",
      "Epoch 15/25\n",
      "5667/5667 [==============================] - 169s 30ms/step - loss: 1.4379e-06\n",
      "Epoch 16/25\n",
      "5667/5667 [==============================] - 169s 30ms/step - loss: 1.4379e-06\n",
      "Epoch 17/25\n",
      "5667/5667 [==============================] - 170s 30ms/step - loss: 1.4379e-06\n",
      "Epoch 18/25\n",
      "5667/5667 [==============================] - 170s 30ms/step - loss: 1.4379e-06\n",
      "Epoch 19/25\n",
      "5667/5667 [==============================] - 169s 30ms/step - loss: 1.4379e-06\n",
      "Epoch 20/25\n",
      "5667/5667 [==============================] - 169s 30ms/step - loss: 1.4379e-06\n",
      "Epoch 21/25\n",
      "5667/5667 [==============================] - 171s 30ms/step - loss: 1.4379e-06\n",
      "Epoch 22/25\n",
      "5667/5667 [==============================] - 170s 30ms/step - loss: 1.4379e-06\n",
      "Epoch 23/25\n",
      "5667/5667 [==============================] - 172s 30ms/step - loss: 1.4379e-06\n",
      "Epoch 24/25\n",
      "5667/5667 [==============================] - 172s 30ms/step - loss: 1.4379e-06\n",
      "Epoch 25/25\n",
      "5667/5667 [==============================] - 170s 30ms/step - loss: 1.4379e-06\n"
     ]
    },
    {
     "data": {
      "text/plain": [
       "<keras.callbacks.History at 0x15315345250>"
      ]
     },
     "execution_count": 42,
     "metadata": {},
     "output_type": "execute_result"
    }
   ],
   "source": [
    "forecaster.fit(X_train, y_train, epochs=25, batch_size=500)"
   ]
  },
  {
   "cell_type": "code",
   "execution_count": 43,
   "id": "31b33b6b",
   "metadata": {},
   "outputs": [],
   "source": [
    "forecaster.save('RNN_v1.h5')\n"
   ]
  },
  {
   "cell_type": "code",
   "execution_count": 44,
   "id": "ae497cd7",
   "metadata": {},
   "outputs": [
    {
     "data": {
      "text/plain": [
       "array([[0.        ],\n",
       "       [0.        ],\n",
       "       [0.        ],\n",
       "       ...,\n",
       "       [0.002599  ],\n",
       "       [0.00175755],\n",
       "       [0.00070234]])"
      ]
     },
     "execution_count": 44,
     "metadata": {},
     "output_type": "execute_result"
    }
   ],
   "source": [
    "real_test_price = dataset_final_Test\n",
    "real_test_price"
   ]
  },
  {
   "cell_type": "code",
   "execution_count": 45,
   "id": "07c51c34",
   "metadata": {},
   "outputs": [
    {
     "data": {
      "text/plain": [
       "0         0.00000000\n",
       "478       0.00000000\n",
       "548       0.00000000\n",
       "1224      0.00000000\n",
       "1896      0.00000000\n",
       "             ...    \n",
       "1590778   0.00004409\n",
       "1590779   0.00101393\n",
       "1590780   0.00259900\n",
       "1590781   0.00175755\n",
       "1590782   0.00070234\n",
       "Name: Movimientoporcentaje, Length: 3541506, dtype: float64"
      ]
     },
     "execution_count": 45,
     "metadata": {},
     "output_type": "execute_result"
    }
   ],
   "source": [
    "dataset_total = pd.concat((new_data.head(2833205)['Movimientoporcentaje'], new_data.head(708301)['Movimientoporcentaje']), axis=0)\n",
    "dataset_total"
   ]
  },
  {
   "cell_type": "code",
   "execution_count": 48,
   "id": "cc8bfd46",
   "metadata": {},
   "outputs": [
    {
     "data": {
      "text/plain": [
       "array([[0.0002126 ],\n",
       "       [0.00035072],\n",
       "       [0.        ],\n",
       "       ...,\n",
       "       [0.002599  ],\n",
       "       [0.00175755],\n",
       "       [0.00070234]])"
      ]
     },
     "execution_count": 48,
     "metadata": {},
     "output_type": "execute_result"
    }
   ],
   "source": [
    "input_test = dataset_total[len(dataset_total) - 708301 - ventana : ].values\n",
    "input_test = input_test.reshape(-1, 1)\n",
    "input_test"
   ]
  },
  {
   "cell_type": "code",
   "execution_count": 49,
   "id": "0eccb190",
   "metadata": {},
   "outputs": [
    {
     "data": {
      "text/plain": [
       "708303"
      ]
     },
     "execution_count": 49,
     "metadata": {},
     "output_type": "execute_result"
    }
   ],
   "source": [
    "cantidad_final = len(input_test)\n",
    "cantidad_final"
   ]
  },
  {
   "cell_type": "code",
   "execution_count": 50,
   "id": "fa15c9f3",
   "metadata": {},
   "outputs": [],
   "source": [
    "X_test = []\n",
    "for i in range(ventana, cantidad_final):\n",
    "  X_test.append(input_test[i - ventana:i, 0])\n",
    "\n",
    "X_test = np.array(X_test)"
   ]
  },
  {
   "cell_type": "code",
   "execution_count": 51,
   "id": "96c6cadc",
   "metadata": {},
   "outputs": [
    {
     "data": {
      "text/plain": [
       "(708301, 2)"
      ]
     },
     "execution_count": 51,
     "metadata": {},
     "output_type": "execute_result"
    }
   ],
   "source": [
    "X_test.shape"
   ]
  },
  {
   "cell_type": "code",
   "execution_count": 52,
   "id": "c85e6ab3",
   "metadata": {},
   "outputs": [],
   "source": [
    "X_test = np.reshape(X_test, (X_test.shape[0], X_test.shape[1], 1))"
   ]
  },
  {
   "cell_type": "code",
   "execution_count": 53,
   "id": "74b79be1",
   "metadata": {},
   "outputs": [
    {
     "data": {
      "text/plain": [
       "(708301, 2, 1)"
      ]
     },
     "execution_count": 53,
     "metadata": {},
     "output_type": "execute_result"
    }
   ],
   "source": [
    "X_test.shape"
   ]
  },
  {
   "cell_type": "code",
   "execution_count": 54,
   "id": "a7445e4c",
   "metadata": {},
   "outputs": [
    {
     "name": "stdout",
     "output_type": "stream",
     "text": [
      "22135/22135 [==============================] - 129s 6ms/step\n"
     ]
    },
    {
     "data": {
      "text/plain": [
       "array([[0.],\n",
       "       [0.],\n",
       "       [0.],\n",
       "       ...,\n",
       "       [0.],\n",
       "       [0.],\n",
       "       [0.]], dtype=float32)"
      ]
     },
     "execution_count": 54,
     "metadata": {},
     "output_type": "execute_result"
    }
   ],
   "source": [
    "predicciones_rnn = forecaster.predict(X_test)\n",
    "predicciones_rnn"
   ]
  },
  {
   "cell_type": "code",
   "execution_count": 55,
   "id": "4c6a4fb2",
   "metadata": {},
   "outputs": [
    {
     "data": {
      "text/plain": [
       "(708301, 1)"
      ]
     },
     "execution_count": 55,
     "metadata": {},
     "output_type": "execute_result"
    }
   ],
   "source": [
    "predicciones_rnn.shape"
   ]
  },
  {
   "cell_type": "code",
   "execution_count": 57,
   "id": "dc784802",
   "metadata": {},
   "outputs": [
    {
     "data": {
      "text/plain": [
       "array([[0.],\n",
       "       [0.],\n",
       "       [0.],\n",
       "       ...,\n",
       "       [0.],\n",
       "       [0.],\n",
       "       [0.]], dtype=float32)"
      ]
     },
     "execution_count": 57,
     "metadata": {},
     "output_type": "execute_result"
    }
   ],
   "source": [
    "real_predicted_price = predicciones_rnn\n",
    "real_predicted_price"
   ]
  },
  {
   "cell_type": "code",
   "execution_count": 58,
   "id": "042f7c34",
   "metadata": {},
   "outputs": [
    {
     "data": {
      "image/png": "[encoded data removed]",
      "text/plain": [
       "<Figure size 432x288 with 1 Axes>"
      ]
     },
     "metadata": {
      "needs_background": "light"
     },
     "output_type": "display_data"
    }
   ],
   "source": [
    "plt.plot(real_test_price, color=\"red\", label=\"Real\")\n",
    "plt.plot(real_predicted_price, color=\"blue\", label=\"RNN\")\n",
    "plt.title(\"Real vrs Predicción RNN\")\n",
    "plt.xlabel(\"Fecha\")\n",
    "plt.ylabel(\"Valor\")\n",
    "plt.legend()\n",
    "plt.show()"
   ]
  },
  {
   "cell_type": "code",
   "execution_count": null,
   "id": "1c4a3f7f",
   "metadata": {},
   "outputs": [],
   "source": []
  }
 ],
 "metadata": {
  "kernelspec": {
   "display_name": "Python 3 (ipykernel)",
   "language": "python",
   "name": "python3"
  },
  "language_info": {
   "codemirror_mode": {
    "name": "ipython",
    "version": 3
   },
   "file_extension": ".py",
   "mimetype": "text/x-python",
   "name": "python",
   "nbconvert_exporter": "python",
   "pygments_lexer": "ipython3",
   "version": "3.9.12"
  }
 },
 "nbformat": 4,
 "nbformat_minor": 5
}
